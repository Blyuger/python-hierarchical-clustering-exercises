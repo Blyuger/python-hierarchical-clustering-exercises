{
    "metadata": {
        "kernelspec": {
            "language": "python",
            "name": "python3",
            "display_name": "Python [default]"
        },
        "language_info": {
            "version": "3.5.2",
            "mimetype": "text/x-python",
            "nbconvert_exporter": "python",
            "file_extension": ".py",
            "name": "python",
            "codemirror_mode": {
                "version": 3,
                "name": "ipython"
            },
            "pygments_lexer": "ipython3"
        }
    },
    "cells": [
        {
            "source": [
                "# Exercise 11: Hierarchies of stocks\n",
                "\n",
                "Previously, you used k-means clustering to cluster companies according to their stock price movements. This time, perform _hierarchical_ clustering of the companies.  You are given a NumPy array of price movements `movements`, where the rows correspond to companies, and a list of the company names `companies`.\n",
                "\n",
                "SciPy hierarchical clustering doesn't fit into a sklearn pipeline, so you'll need to use the `normalize()` function from `sklearn.preprocessing` instead of `Normalizer`."
            ],
            "cell_type": "markdown",
            "metadata": {}
        },
        {
            "metadata": {},
            "cell_type": "markdown",
            "source": [
                "From the course _Transition to Data Science_. [Buy the entire course for just $10](https://www.udemy.com/transition-to-data-science-in-python/?couponCode=HIERARCH-NBS) for many more exercises and helpful video lectures."
            ]
        },
        {
            "source": [
                "**Step 1:** Load the data _(written for you)_"
            ],
            "cell_type": "markdown",
            "metadata": {}
        },
        {
            "source": [
                "import pandas as pd\n",
                "\n",
                "fn = '../datasets/company-stock-movements-2010-2015-incl.csv'\n",
                "stocks_df = pd.read_csv(fn, index_col=0)\n",
                "\n",
                "companies = list(stocks_df.index)\n",
                "movements = stocks_df.values"
            ],
            "cell_type": "code",
            "outputs": [],
            "execution_count": null,
            "metadata": {
                "collapsed": true,
                "exercise": false
            }
        },
        {
            "source": [
                "**Step 2:** Make the necessary imports:\n",
                "\n",
                " + `normalize` from `sklearn.preprocessing`.\n",
                " + `linkage` and `dendrogram` from `scipy.cluster.hierarchy`.\n",
                " + `matplotlib.pyplot` as `plt`."
            ],
            "cell_type": "markdown",
            "metadata": {}
        },
        {
            "source": [],
            "cell_type": "code",
            "outputs": [],
            "execution_count": null,
            "metadata": {
                "collapsed": true
            }
        },
        {
            "source": [
                "**Step 3:** Rescale the price movements for each stock by using the `normalize()` function on `movements`."
            ],
            "cell_type": "markdown",
            "metadata": {}
        },
        {
            "source": [],
            "cell_type": "code",
            "outputs": [],
            "execution_count": null,
            "metadata": {
                "collapsed": true
            }
        },
        {
            "source": [
                "**Step 4:** Apply the `linkage()` function to `normalized_movements`, using `'complete'` linkage, to calculate the hierarchical clustering. Assign the result to `mergings`."
            ],
            "cell_type": "markdown",
            "metadata": {}
        },
        {
            "source": [],
            "cell_type": "code",
            "outputs": [],
            "execution_count": null,
            "metadata": {
                "collapsed": true
            }
        },
        {
            "source": [
                "**Step 5:** Plot a dendrogram of the hierarchical clustering, using the list `companies` of company names as the `labels`. In addition, specify the `leaf_rotation=90`, and `leaf_font_size=10` keyword arguments as you did in the previous exercise."
            ],
            "cell_type": "markdown",
            "metadata": {}
        },
        {
            "source": [],
            "cell_type": "code",
            "outputs": [],
            "execution_count": null,
            "metadata": {
                "collapsed": false
            }
        }
    ],
    "nbformat_minor": 2,
    "nbformat": 4
}