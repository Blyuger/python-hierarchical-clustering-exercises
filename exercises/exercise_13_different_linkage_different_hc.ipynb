{
    "metadata": {
        "kernelspec": {
            "display_name": "Python [default]",
            "language": "python",
            "name": "python3"
        },
        "language_info": {
            "mimetype": "text/x-python",
            "version": "3.5.2",
            "codemirror_mode": {
                "version": 3,
                "name": "ipython"
            },
            "pygments_lexer": "ipython3",
            "name": "python",
            "nbconvert_exporter": "python",
            "file_extension": ".py"
        }
    },
    "cells": [
        {
            "metadata": {},
            "cell_type": "markdown",
            "source": [
                "# Exercise 13: Different linkage, different hierarchical clustering!\n",
                "\n",
                "In the video, you saw a hierarchical clustering of the voting countries at the Eurovision song contest using `'complete'` linkage. Now, perform a hierarchical clustering of the voting countries with `'single'` linkage, and compare the resulting dendrogram with the one in the video.  Different linkage, different hierarchical clustering!\n",
                "\n",
                "First, we need to do a little pre-processing to account for one of the Eurovision rules: countries are not allowed to vote for themselves."
            ]
        },
        {
            "metadata": {},
            "cell_type": "markdown",
            "source": [
                "From the course _Transition to Data Science_. [Buy the entire course for just $10](https://www.udemy.com/transition-to-data-science-in-python/?couponCode=HIERARCH-NBS) for many more exercises and helpful video lectures."
            ]
        },
        {
            "metadata": {},
            "cell_type": "markdown",
            "source": [
                "**Step 1:** Load the DataFrame _(written for you)_"
            ]
        },
        {
            "metadata": {
                "exercise": false,
                "collapsed": true
            },
            "cell_type": "code",
            "outputs": [],
            "source": [
                "import pandas as pd\n",
                "\n",
                "scores_df = pd.read_csv('../datasets/eurovision-2016-televoting.csv', index_col=0)\n",
                "country_names = list(scores_df.index)"
            ],
            "execution_count": null
        },
        {
            "metadata": {},
            "cell_type": "markdown",
            "source": [
                "**Step 2:** Display the DataFrame, and have a look.  Each row represents a country that _voted_, while each column represents a country that _performed_.\n",
                "\n",
                "Notice the NaN (\"not-a-number\") values.  These correspond to missing scores in the original CSV file.  These scores are missing because countries that performed were not allowed to vote for themselves."
            ]
        },
        {
            "metadata": {
                "collapsed": false
            },
            "cell_type": "code",
            "outputs": [],
            "source": [],
            "execution_count": null
        },
        {
            "metadata": {},
            "cell_type": "markdown",
            "source": [
                "**Step 3:** Fill in the NaNs with the highest possible score (12) - we are assuming that countries would vote for themselves, if they had been allowed to do so.  _(This bit written for you)._"
            ]
        },
        {
            "metadata": {
                "collapsed": true
            },
            "cell_type": "code",
            "outputs": [],
            "source": [],
            "execution_count": null
        },
        {
            "metadata": {},
            "cell_type": "markdown",
            "source": [
                "**Step 4:** Import the `normalize` function from `sklearn.preprocessing`."
            ]
        },
        {
            "metadata": {
                "collapsed": true
            },
            "cell_type": "code",
            "outputs": [],
            "source": [],
            "execution_count": null
        },
        {
            "metadata": {},
            "cell_type": "markdown",
            "source": [
                "**Step 5:** Apply the normalize function to `scores_df.values`, assigning the result to `samples`.\n",
                "\n",
                "(Why do we need to normalize?  Because now that the missing values are filled with 12 points, some countries (those that performed) given a greater total number of points when voting.  The `normalize` function corrects for this.) "
            ]
        },
        {
            "metadata": {
                "collapsed": true
            },
            "cell_type": "code",
            "outputs": [],
            "source": [],
            "execution_count": null
        },
        {
            "metadata": {},
            "cell_type": "markdown",
            "source": [
                "**Step 6:** Import:\n",
                " + `linkage` and `dendrogram` from `scipy.cluster.hierarchy`.\n",
                " + `matplotlib.pyplot` as `plt`."
            ]
        },
        {
            "metadata": {
                "collapsed": true
            },
            "cell_type": "code",
            "outputs": [],
            "source": [],
            "execution_count": null
        },
        {
            "metadata": {
                "collapsed": true
            },
            "cell_type": "markdown",
            "source": [
                "**Step 7:** Perform hierarchical clustering on `samples` using the `linkage()` function with the `method='single'` keyword argument. Assign the result to `mergings`."
            ]
        },
        {
            "metadata": {
                "collapsed": true
            },
            "cell_type": "code",
            "outputs": [],
            "source": [],
            "execution_count": null
        },
        {
            "metadata": {},
            "cell_type": "markdown",
            "source": [
                "**Step 8:** Plot a dendrogram of the hierarchical clustering, using the list `country_names` as the `labels`. In addition, specify the `leaf_rotation=90`, and `leaf_font_size=6` keyword arguments as you have done earlier."
            ]
        },
        {
            "metadata": {
                "collapsed": false
            },
            "cell_type": "code",
            "outputs": [],
            "source": [],
            "execution_count": null
        },
        {
            "metadata": {},
            "cell_type": "markdown",
            "source": [
                "**Step 9:** Compare your dendrogram above to the one in the slides and notice that different linkage functions give different hierarchical clusterings.\n",
                "\n",
                "Both the linkage functions we've considered, \"complete\" and \"single\", have advantages and disadvantages.  In practice, just try both out, and see which dendrogram seems more sensible."
            ]
        },
        {
            "metadata": {
                "collapsed": true
            },
            "cell_type": "code",
            "outputs": [],
            "source": [],
            "execution_count": null
        }
    ],
    "nbformat_minor": 1,
    "nbformat": 4
}